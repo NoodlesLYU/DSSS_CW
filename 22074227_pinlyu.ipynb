{
 "cells": [
  {
   "cell_type": "markdown",
   "id": "c56e99fa-8221-4ba9-a737-0b69a392d177",
   "metadata": {},
   "source": [
    "# How does public transportation accessibility vary across neighbourhoods with different socioeconomic statuses in London?"
   ]
  },
  {
   "cell_type": "markdown",
   "id": "a6e4d429-1497-44e7-b1df-a2789da3fa21",
   "metadata": {},
   "source": [
    "## Introduction\n",
    "\n",
    "In today's rapidly urbanizing world, public transport accessibility significantly impacts the urban quality of life. High-quality public transportation offers numerous benefits, such as reduced traffic, lower infrastructure costs, better land use, and improved public health (Litman, T. (2017). Understanding factors affecting accessibility is vital for informed urban planning and policy development.\n",
    "\n",
    "This project explored the relationships between socio-economic factors and public transport accessibility in London using a comprehensive dataset, including income, education, housing, car ownership, and PTAL scores. We applied four regression models—Linear, Lasso, Random Forest, and Extreme Gradient Boosting—to identify key factors influencing PTAL scores and provide urban planning and policy insights."
   ]
  },
  {
   "cell_type": "markdown",
   "id": "ace87d84-d375-4af1-b7e5-f00601ba046a",
   "metadata": {},
   "source": [
    "## Literature Review\n",
    "\n",
    "In this part, we review key studies on transport accessibility and urban socio-economics that offer insights into methodologies for examining the relationship between public transport accessibility (measured by PTAL values) and London's neighbourhoods' socio-economic status. Lucas et al. (2016) explored travel behaviours and social disadvantages, using multiple linear regression models, providing a methodological framework for the London context. Paulley et al. (2006) employed PTAL to assess changes in bus service accessibility in Great Britain, demonstrating PTAL's usefulness and applicability in research. Geurs and van Wee (2004) reviewed accessibility measures, emphasizing selecting appropriate indicators. PTAL values will be used in this project as a standardized measure of accessibility in London. These studies provide methodological insights for future research investigating public transportation accessibility disparities across London neighbourhoods, informing policy interventions promoting social equity and sustainable urban development."
   ]
  },
  {
   "cell_type": "markdown",
   "id": "0eb42ce2-e558-41cb-8ca5-a8dc1f7e821b",
   "metadata": {},
   "source": [
    "## Research Question\n",
    "\n",
    "What is the relationship between public transportation accessibility, as measured by Public Transport Accessibility Level (PTAL) values, and neighbourhood socioeconomic status in London?"
   ]
  },
  {
   "cell_type": "markdown",
   "id": "74a75124-e78e-4f7d-9955-b007c442fbe3",
   "metadata": {},
   "source": [
    "## Presentation of data and data pre-processing\n",
    "\n",
    "In this project, we collected the Middle Super Output Area (MSOA) 2011 GIS boundary data covering Greater London, MSOA Atlas 2011 data and Transport for London's (TFL) Public Transport Accessibility Levels (PTALs) 2015 data in London DataStore. I will combine these three datasets to examine the relationship between socio-economic factors and public transport accessibility levels (PTALs) in London."
   ]
  },
  {
   "cell_type": "code",
   "execution_count": 1,
   "id": "bf5a1dd8-cc1f-44fc-b469-409282663ec4",
   "metadata": {},
   "outputs": [
    {
     "name": "stdout",
     "output_type": "stream",
     "text": [
      "1681353334.5882945\n"
     ]
    }
   ],
   "source": [
    "import time\n",
    "# Set start time of running\n",
    "start_time = time.time()\n",
    "print(start_time)"
   ]
  },
  {
   "cell_type": "markdown",
   "id": "4dbe741c-1223-4993-86a3-34fec8659a2d",
   "metadata": {},
   "source": [
    "Firstly, we import the libraries we will use and read and load the three datasets"
   ]
  },
  {
   "cell_type": "code",
   "execution_count": 2,
   "id": "440233b7-ff9d-47e8-a993-3d756c114b4f",
   "metadata": {},
   "outputs": [
    {
     "name": "stdout",
     "output_type": "stream",
     "text": [
      "Requirement already satisfied: chardet in /opt/conda/lib/python3.10/site-packages (5.1.0)\n"
     ]
    }
   ],
   "source": [
    "# General libraries\n",
    "import pandas as pd\n",
    "import numpy as np\n",
    "import matplotlib.pyplot as plt\n",
    "import seaborn as sns\n",
    "import requests\n",
    "import io\n",
    "import tempfile\n",
    "import os\n",
    "import zipfile\n",
    "import warnings\n",
    "from shapely.errors import ShapelyDeprecationWarning\n",
    "\n",
    "# Geospatial libraries\n",
    "import geopandas as gpd\n",
    "from shapely.geometry import Point\n",
    "\n",
    "# Encoding detection library\n",
    "import sys\n",
    "!{sys.executable} -m pip install chardet\n",
    "import chardet\n",
    "\n",
    "# Scikit-learn libraries\n",
    "from sklearn.preprocessing import RobustScaler\n",
    "from sklearn.linear_model import LinearRegression, Lasso\n",
    "from sklearn.ensemble import RandomForestRegressor, GradientBoostingRegressor\n",
    "from sklearn.model_selection import train_test_split, cross_val_score, KFold, GridSearchCV\n",
    "from sklearn.metrics import mean_squared_error, r2_score\n",
    "import xgboost as xgb\n",
    "\n",
    "# Set plotting style\n",
    "sns.set_style(\"whitegrid\")\n",
    "\n",
    "# Notebook settings\n",
    "random_state = 20 # for reproducability\n",
    "np.random.seed(random_state) # setting numpy random seed, as that is used for sklearn operations\n",
    "\n",
    "pd.options.display.float_format = '{:40,.4f}'.format # specifies default number form \n",
    "plt.style.use('ggplot') # specifies that graphs should use ggplot styling \n",
    "%matplotlib inline"
   ]
  },
  {
   "cell_type": "code",
   "execution_count": 3,
   "id": "aa3dba89-d8fb-42aa-9c01-afaff71443ea",
   "metadata": {},
   "outputs": [],
   "source": [
    "# Detect file encoding from URL\n",
    "def detect_file_encoding_from_url(url):\n",
    "    response = requests.get(url)\n",
    "    response.raise_for_status()\n",
    "    result = chardet.detect(response.content)\n",
    "    return result['encoding']\n",
    "\n",
    "# Load msoa_atlas file with the detected encoding\n",
    "msoa_atlas_url = 'https://raw.githubusercontent.com/NoodlesLYU/DSSS_CW/main/data/msoa-data.csv'\n",
    "encoding = detect_file_encoding_from_url(msoa_atlas_url)\n",
    "msoa_df  = pd.read_csv(msoa_atlas_url, encoding=encoding)\n",
    "\n",
    "# Load ptal file from GitHub\n",
    "ptal_url = 'https://raw.githubusercontent.com/NoodlesLYU/DSSS_CW/main/data/ptal.xlsx'\n",
    "response = requests.get(ptal_url)\n",
    "response.raise_for_status()\n",
    "ptal_df = pd.read_excel(io.BytesIO(response.content))\n",
    "\n",
    "# Download and extract shapefile\n",
    "def download_and_extract_shapefile(url, temp_dir):\n",
    "    response = requests.get(url)\n",
    "    response.raise_for_status()\n",
    "    with tempfile.NamedTemporaryFile(suffix='.zip', dir=temp_dir, delete=False) as temp_zip:\n",
    "        temp_zip.write(response.content)\n",
    "        temp_zip.flush()\n",
    "        with zipfile.ZipFile(temp_zip.name, 'r') as zip_ref:\n",
    "            zip_ref.extractall(temp_dir)\n",
    "\n",
    "def find_shp_file(directory):\n",
    "    for root, _, files in os.walk(directory):\n",
    "        for file in files:\n",
    "            if file.endswith('.shp') and not file.startswith('._'):\n",
    "                return os.path.join(root, file)\n",
    "    raise FileNotFoundError(\"No .shp file found in the extracted directory\")\n",
    "\n",
    "# Read msoa shapefile from GitHub\n",
    "def read_shapefile_from_github(url):\n",
    "    with tempfile.TemporaryDirectory() as temp_dir:\n",
    "        download_and_extract_shapefile(url, temp_dir)\n",
    "        shp_file = find_shp_file(temp_dir)\n",
    "        return gpd.read_file(shp_file)\n",
    "\n",
    "shapefile_url = 'https://raw.githubusercontent.com/NoodlesLYU/DSSS_CW/main/data/shapefile.zip'\n",
    "msoa_shapes = read_shapefile_from_github(shapefile_url)"
   ]
  },
  {
   "cell_type": "markdown",
   "id": "cb5cb2b4-f63b-47ef-8c28-eeb46a455420",
   "metadata": {},
   "source": [
    "Then we select the columns from the dataset that are relevant to our study and are then renamed to more concise and descriptive names for ease of understanding and manipulation.\n",
    "\n",
    "Key variables in the MSOA Atlas dataset include:  \n",
    "\n",
    "- **MSOA_Code**: The unique code assigned to each Middle Super Output Area.  \n",
    "- **MSOA_Name**: The name of the Middle Super Output Area.  \n",
    "- **Mean_Annual_Household_Income**: The average annual household income for each MSOA.  \n",
    "- **Median_Annual_Household_Income**: The median annual household income for each MSOA.  \n",
    "- **Highest_Level4_Qualifications**: The percentage of the population in each MSOA holding Level 4 qualifications and above.  \n",
    "- **Social_Rented_Percentage**: The percentage of households in each MSOA living in social rented accommodation.  \n",
    "- **Private_Rented_Percentage**: The percentage of households in each MSOA living in privately rented accommodation.  \n",
    "- **No_Car_or_Van_Percentage**: The percentage of households in each MSOA with no car or van.  \n",
    "- **Cars_per_Household**: The average number of cars per household in each MSOA.  \n",
    "- **Median_House_Price_2011**: The median house price for each MSOA in 2011.  \n",
    "- **Unemployment_Rate**: The unemployment rate for each MSOA.  \n",
    "\n",
    "Key variables in the MSOA boundary dataset include:  \n",
    "\n",
    "- **MSOA11CD**: The unique code assigned to each Middle Super Output Area.  \n",
    "- **MSOA11NM**: The name of the Middle Super Output Area.  \n",
    "- **geometry**: Geographical coordinates information.  \n",
    "\n",
    "Key variables in the PTAL dataset include:  \n",
    "\n",
    "- **X**: Latitude.  \n",
    "- **Y**: longitude.  \n",
    "- **PTAL2015**: PTAL scores.  "
   ]
  },
  {
   "cell_type": "code",
   "execution_count": 4,
   "id": "c97b7acc-1d76-4fbd-a85e-d610245758be",
   "metadata": {},
   "outputs": [],
   "source": [
    "# Define the columns of interest\n",
    "msoa_atlas_columns = [\n",
    "    'Middle Super Output Area',\n",
    "    'MSOA Name',\n",
    "    'Household Income Estimates (2011/12);Total Mean Annual Household Income (£);',\n",
    "    'Household Income Estimates (2011/12);Total Median Annual Household Income (£);',\n",
    "    'Qualifications (2011 Census);Highest level of qualification: Level 4 qualifications and above;',\n",
    "    'Tenure (2011);Social rented (%);',\n",
    "    'Tenure (2011);Private rented (%);',\n",
    "    'Car or van availability (2011 Census);No cars or vans in household (%);',\n",
    "    'Car or van availability (2011 Census);Cars per household;',\n",
    "    'House Prices;Median House Price (£);2011',\n",
    "    'Economic Activity (2011 Census);Unemployment Rate;'\n",
    "]\n",
    "\n",
    "# Create a new msoa atlas dataframe\n",
    "msoa_selected_df = msoa_df[msoa_atlas_columns]\n",
    "\n",
    "# Rename the columns to more descriptive names\n",
    "msoa_selected_df = msoa_selected_df.rename(columns={\n",
    "    'Middle Super Output Area': 'MSOA_Code',\n",
    "    'MSOA Name': 'MSOA_Name',\n",
    "    'Household Income Estimates (2011/12);Total Mean Annual Household Income (£);': 'Mean_Annual_Household_Income',\n",
    "    'Household Income Estimates (2011/12);Total Median Annual Household Income (£);': 'Median_Annual_Household_Income',\n",
    "    'Qualifications (2011 Census);Highest level of qualification: Level 4 qualifications and above;': 'Highest_Level4_Qualifications',\n",
    "    'Tenure (2011);Social rented (%);': 'Social_Rented_Percentage',\n",
    "    'Tenure (2011);Private rented (%);': 'Private_Rented_Percentage',\n",
    "    'Car or van availability (2011 Census);No cars or vans in household (%);': 'No_Car_or_Van_Percentage',\n",
    "    'Car or van availability (2011 Census);Cars per household;': 'Cars_per_Household',\n",
    "    'House Prices;Median House Price (£);2011': 'Median_House_Price_2011',\n",
    "    'Economic Activity (2011 Census);Unemployment Rate;': 'Unemployment_Rate'\n",
    "})\n",
    "\n",
    "# Creat a new msoa boundary dataframe\n",
    "msoa_selected_shapes = msoa_shapes[['MSOA11CD','MSOA11NM','geometry']]\n",
    "\n",
    "# Creat a new ptal dataframe\n",
    "ptal_df = ptal_df[['X','Y','PTAL2015']]"
   ]
  },
  {
   "cell_type": "markdown",
   "id": "050a2c42-e9dd-4d1e-a6a0-c29aa48f8968",
   "metadata": {},
   "source": [
    "We check the summary of these DataFrames, including the number of non-null values and data types for each column. And then we check for missing values and remove rows from DataFrames that contain missing (NaN) values, and calculate the number of duplicated rows in the DataFrames."
   ]
  },
  {
   "cell_type": "code",
   "execution_count": 5,
   "id": "c14e6052-bdb0-474e-a3b9-5be3ed4daf36",
   "metadata": {},
   "outputs": [
    {
     "data": {
      "text/html": [
       "<div>\n",
       "<style scoped>\n",
       "    .dataframe tbody tr th:only-of-type {\n",
       "        vertical-align: middle;\n",
       "    }\n",
       "\n",
       "    .dataframe tbody tr th {\n",
       "        vertical-align: top;\n",
       "    }\n",
       "\n",
       "    .dataframe thead th {\n",
       "        text-align: right;\n",
       "    }\n",
       "</style>\n",
       "<table border=\"1\" class=\"dataframe\">\n",
       "  <thead>\n",
       "    <tr style=\"text-align: right;\">\n",
       "      <th></th>\n",
       "      <th>MSOA_Code</th>\n",
       "      <th>MSOA_Name</th>\n",
       "      <th>Mean_Annual_Household_Income</th>\n",
       "      <th>Median_Annual_Household_Income</th>\n",
       "      <th>Highest_Level4_Qualifications</th>\n",
       "      <th>Social_Rented_Percentage</th>\n",
       "      <th>Private_Rented_Percentage</th>\n",
       "      <th>No_Car_or_Van_Percentage</th>\n",
       "      <th>Cars_per_Household</th>\n",
       "      <th>Median_House_Price_2011</th>\n",
       "      <th>Unemployment_Rate</th>\n",
       "    </tr>\n",
       "  </thead>\n",
       "  <tbody>\n",
       "    <tr>\n",
       "      <th>0</th>\n",
       "      <td>E02000001</td>\n",
       "      <td>City of London 001</td>\n",
       "      <td>59728</td>\n",
       "      <td>46788</td>\n",
       "      <td>4618</td>\n",
       "      <td>16.5000</td>\n",
       "      <td>35.9000</td>\n",
       "      <td>69.4000</td>\n",
       "      <td>0.4000</td>\n",
       "      <td>465000</td>\n",
       "      <td>3.8000</td>\n",
       "    </tr>\n",
       "    <tr>\n",
       "      <th>1</th>\n",
       "      <td>E02000002</td>\n",
       "      <td>Barking and Dagenham 001</td>\n",
       "      <td>31788</td>\n",
       "      <td>27059</td>\n",
       "      <td>914</td>\n",
       "      <td>41.8000</td>\n",
       "      <td>9.9000</td>\n",
       "      <td>37.6000</td>\n",
       "      <td>0.8000</td>\n",
       "      <td>185000</td>\n",
       "      <td>11.8000</td>\n",
       "    </tr>\n",
       "    <tr>\n",
       "      <th>2</th>\n",
       "      <td>E02000003</td>\n",
       "      <td>Barking and Dagenham 002</td>\n",
       "      <td>43357</td>\n",
       "      <td>36835</td>\n",
       "      <td>1829</td>\n",
       "      <td>11.6000</td>\n",
       "      <td>21.6000</td>\n",
       "      <td>31.2000</td>\n",
       "      <td>1.0000</td>\n",
       "      <td>200000</td>\n",
       "      <td>9.1000</td>\n",
       "    </tr>\n",
       "    <tr>\n",
       "      <th>3</th>\n",
       "      <td>E02000004</td>\n",
       "      <td>Barking and Dagenham 003</td>\n",
       "      <td>46701</td>\n",
       "      <td>39668</td>\n",
       "      <td>891</td>\n",
       "      <td>16.0000</td>\n",
       "      <td>9.8000</td>\n",
       "      <td>24.0000</td>\n",
       "      <td>1.1000</td>\n",
       "      <td>193750</td>\n",
       "      <td>9.3000</td>\n",
       "    </tr>\n",
       "    <tr>\n",
       "      <th>4</th>\n",
       "      <td>E02000005</td>\n",
       "      <td>Barking and Dagenham 004</td>\n",
       "      <td>34294</td>\n",
       "      <td>29156</td>\n",
       "      <td>1119</td>\n",
       "      <td>24.9000</td>\n",
       "      <td>15.1000</td>\n",
       "      <td>33.9000</td>\n",
       "      <td>0.9000</td>\n",
       "      <td>165000</td>\n",
       "      <td>9.7000</td>\n",
       "    </tr>\n",
       "  </tbody>\n",
       "</table>\n",
       "</div>"
      ],
      "text/plain": [
       "   MSOA_Code                 MSOA_Name  Mean_Annual_Household_Income  \\\n",
       "0  E02000001        City of London 001                         59728   \n",
       "1  E02000002  Barking and Dagenham 001                         31788   \n",
       "2  E02000003  Barking and Dagenham 002                         43357   \n",
       "3  E02000004  Barking and Dagenham 003                         46701   \n",
       "4  E02000005  Barking and Dagenham 004                         34294   \n",
       "\n",
       "   Median_Annual_Household_Income  Highest_Level4_Qualifications  \\\n",
       "0                           46788                           4618   \n",
       "1                           27059                            914   \n",
       "2                           36835                           1829   \n",
       "3                           39668                            891   \n",
       "4                           29156                           1119   \n",
       "\n",
       "                  Social_Rented_Percentage  \\\n",
       "0                                  16.5000   \n",
       "1                                  41.8000   \n",
       "2                                  11.6000   \n",
       "3                                  16.0000   \n",
       "4                                  24.9000   \n",
       "\n",
       "                 Private_Rented_Percentage  \\\n",
       "0                                  35.9000   \n",
       "1                                   9.9000   \n",
       "2                                  21.6000   \n",
       "3                                   9.8000   \n",
       "4                                  15.1000   \n",
       "\n",
       "                  No_Car_or_Van_Percentage  \\\n",
       "0                                  69.4000   \n",
       "1                                  37.6000   \n",
       "2                                  31.2000   \n",
       "3                                  24.0000   \n",
       "4                                  33.9000   \n",
       "\n",
       "                        Cars_per_Household  Median_House_Price_2011  \\\n",
       "0                                   0.4000                   465000   \n",
       "1                                   0.8000                   185000   \n",
       "2                                   1.0000                   200000   \n",
       "3                                   1.1000                   193750   \n",
       "4                                   0.9000                   165000   \n",
       "\n",
       "                         Unemployment_Rate  \n",
       "0                                   3.8000  \n",
       "1                                  11.8000  \n",
       "2                                   9.1000  \n",
       "3                                   9.3000  \n",
       "4                                   9.7000  "
      ]
     },
     "execution_count": 5,
     "metadata": {},
     "output_type": "execute_result"
    }
   ],
   "source": [
    "msoa_selected_df.head()"
   ]
  },
  {
   "cell_type": "code",
   "execution_count": 6,
   "id": "28a9e3bc-8ba5-4e70-b7e5-900739c504b5",
   "metadata": {},
   "outputs": [
    {
     "name": "stdout",
     "output_type": "stream",
     "text": [
      "<class 'pandas.core.frame.DataFrame'>\n",
      "RangeIndex: 984 entries, 0 to 983\n",
      "Data columns (total 11 columns):\n",
      " #   Column                          Non-Null Count  Dtype  \n",
      "---  ------                          --------------  -----  \n",
      " 0   MSOA_Code                       983 non-null    object \n",
      " 1   MSOA_Name                       984 non-null    object \n",
      " 2   Mean_Annual_Household_Income    984 non-null    int64  \n",
      " 3   Median_Annual_Household_Income  984 non-null    int64  \n",
      " 4   Highest_Level4_Qualifications   984 non-null    int64  \n",
      " 5   Social_Rented_Percentage        984 non-null    float64\n",
      " 6   Private_Rented_Percentage       984 non-null    float64\n",
      " 7   No_Car_or_Van_Percentage        984 non-null    float64\n",
      " 8   Cars_per_Household              984 non-null    float64\n",
      " 9   Median_House_Price_2011         984 non-null    int64  \n",
      " 10  Unemployment_Rate               984 non-null    float64\n",
      "dtypes: float64(5), int64(4), object(2)\n",
      "memory usage: 84.7+ KB\n"
     ]
    }
   ],
   "source": [
    "msoa_selected_df.info()"
   ]
  },
  {
   "cell_type": "code",
   "execution_count": 7,
   "id": "f94a1dfc-559c-4259-a72d-a709e46d3577",
   "metadata": {},
   "outputs": [
    {
     "data": {
      "text/plain": [
       "MSOA_Code                         1\n",
       "MSOA_Name                         0\n",
       "Mean_Annual_Household_Income      0\n",
       "Median_Annual_Household_Income    0\n",
       "Highest_Level4_Qualifications     0\n",
       "Social_Rented_Percentage          0\n",
       "Private_Rented_Percentage         0\n",
       "No_Car_or_Van_Percentage          0\n",
       "Cars_per_Household                0\n",
       "Median_House_Price_2011           0\n",
       "Unemployment_Rate                 0\n",
       "dtype: int64"
      ]
     },
     "execution_count": 7,
     "metadata": {},
     "output_type": "execute_result"
    }
   ],
   "source": [
    "msoa_selected_df.isna().sum()"
   ]
  },
  {
   "cell_type": "code",
   "execution_count": 8,
   "id": "c57fbe93-52d4-4eb1-854d-be9fc3fb9ae5",
   "metadata": {},
   "outputs": [],
   "source": [
    "msoa_selected_df = msoa_selected_df.dropna()"
   ]
  },
  {
   "cell_type": "code",
   "execution_count": 9,
   "id": "5aa776f0-c51e-4b67-b53f-05f2521c0e84",
   "metadata": {},
   "outputs": [
    {
     "data": {
      "text/plain": [
       "0"
      ]
     },
     "execution_count": 9,
     "metadata": {},
     "output_type": "execute_result"
    }
   ],
   "source": [
    "msoa_selected_df.duplicated().sum()"
   ]
  },
  {
   "cell_type": "code",
   "execution_count": 10,
   "id": "79f0d78c-55db-4d79-9b25-4ae1bb88f0d9",
   "metadata": {},
   "outputs": [
    {
     "data": {
      "text/html": [
       "<div>\n",
       "<style scoped>\n",
       "    .dataframe tbody tr th:only-of-type {\n",
       "        vertical-align: middle;\n",
       "    }\n",
       "\n",
       "    .dataframe tbody tr th {\n",
       "        vertical-align: top;\n",
       "    }\n",
       "\n",
       "    .dataframe thead th {\n",
       "        text-align: right;\n",
       "    }\n",
       "</style>\n",
       "<table border=\"1\" class=\"dataframe\">\n",
       "  <thead>\n",
       "    <tr style=\"text-align: right;\">\n",
       "      <th></th>\n",
       "      <th>MSOA11CD</th>\n",
       "      <th>MSOA11NM</th>\n",
       "      <th>geometry</th>\n",
       "    </tr>\n",
       "  </thead>\n",
       "  <tbody>\n",
       "    <tr>\n",
       "      <th>0</th>\n",
       "      <td>E02000001</td>\n",
       "      <td>City of London 001</td>\n",
       "      <td>MULTIPOLYGON (((531667.624 180534.992, 531647....</td>\n",
       "    </tr>\n",
       "    <tr>\n",
       "      <th>1</th>\n",
       "      <td>E02000002</td>\n",
       "      <td>Barking and Dagenham 001</td>\n",
       "      <td>POLYGON ((548881.563 190845.265, 548881.125 19...</td>\n",
       "    </tr>\n",
       "    <tr>\n",
       "      <th>2</th>\n",
       "      <td>E02000003</td>\n",
       "      <td>Barking and Dagenham 002</td>\n",
       "      <td>POLYGON ((549102.438 189324.625, 548954.500 18...</td>\n",
       "    </tr>\n",
       "    <tr>\n",
       "      <th>3</th>\n",
       "      <td>E02000004</td>\n",
       "      <td>Barking and Dagenham 003</td>\n",
       "      <td>POLYGON ((551549.998 187364.637, 551478.000 18...</td>\n",
       "    </tr>\n",
       "    <tr>\n",
       "      <th>4</th>\n",
       "      <td>E02000005</td>\n",
       "      <td>Barking and Dagenham 004</td>\n",
       "      <td>POLYGON ((549099.634 187656.076, 549161.375 18...</td>\n",
       "    </tr>\n",
       "  </tbody>\n",
       "</table>\n",
       "</div>"
      ],
      "text/plain": [
       "    MSOA11CD                  MSOA11NM  \\\n",
       "0  E02000001        City of London 001   \n",
       "1  E02000002  Barking and Dagenham 001   \n",
       "2  E02000003  Barking and Dagenham 002   \n",
       "3  E02000004  Barking and Dagenham 003   \n",
       "4  E02000005  Barking and Dagenham 004   \n",
       "\n",
       "                                            geometry  \n",
       "0  MULTIPOLYGON (((531667.624 180534.992, 531647....  \n",
       "1  POLYGON ((548881.563 190845.265, 548881.125 19...  \n",
       "2  POLYGON ((549102.438 189324.625, 548954.500 18...  \n",
       "3  POLYGON ((551549.998 187364.637, 551478.000 18...  \n",
       "4  POLYGON ((549099.634 187656.076, 549161.375 18...  "
      ]
     },
     "execution_count": 10,
     "metadata": {},
     "output_type": "execute_result"
    }
   ],
   "source": [
    "msoa_selected_shapes.head()"
   ]
  },
  {
   "cell_type": "code",
   "execution_count": 11,
   "id": "f95719d9-52d8-407d-8d57-c30b7ffa6aa4",
   "metadata": {},
   "outputs": [
    {
     "name": "stdout",
     "output_type": "stream",
     "text": [
      "<class 'geopandas.geodataframe.GeoDataFrame'>\n",
      "RangeIndex: 983 entries, 0 to 982\n",
      "Data columns (total 3 columns):\n",
      " #   Column    Non-Null Count  Dtype   \n",
      "---  ------    --------------  -----   \n",
      " 0   MSOA11CD  983 non-null    object  \n",
      " 1   MSOA11NM  983 non-null    object  \n",
      " 2   geometry  983 non-null    geometry\n",
      "dtypes: geometry(1), object(2)\n",
      "memory usage: 23.2+ KB\n"
     ]
    }
   ],
   "source": [
    "msoa_selected_shapes.info()"
   ]
  },
  {
   "cell_type": "code",
   "execution_count": 12,
   "id": "159264e1-13d5-4364-a942-a0e056d04a79",
   "metadata": {},
   "outputs": [
    {
     "data": {
      "text/plain": [
       "MSOA11CD    0\n",
       "MSOA11NM    0\n",
       "geometry    0\n",
       "dtype: int64"
      ]
     },
     "execution_count": 12,
     "metadata": {},
     "output_type": "execute_result"
    }
   ],
   "source": [
    "msoa_selected_shapes.isna().sum()"
   ]
  },
  {
   "cell_type": "code",
   "execution_count": 13,
   "id": "dd4b890d-5345-4f55-9b35-55862838c97d",
   "metadata": {},
   "outputs": [
    {
     "data": {
      "text/plain": [
       "0"
      ]
     },
     "execution_count": 13,
     "metadata": {},
     "output_type": "execute_result"
    }
   ],
   "source": [
    "msoa_selected_shapes.duplicated().sum()"
   ]
  },
  {
   "cell_type": "code",
   "execution_count": 14,
   "id": "b2cd66ab-b01c-44cd-bc40-7053fd256ea3",
   "metadata": {},
   "outputs": [
    {
     "data": {
      "text/html": [
       "<div>\n",
       "<style scoped>\n",
       "    .dataframe tbody tr th:only-of-type {\n",
       "        vertical-align: middle;\n",
       "    }\n",
       "\n",
       "    .dataframe tbody tr th {\n",
       "        vertical-align: top;\n",
       "    }\n",
       "\n",
       "    .dataframe thead th {\n",
       "        text-align: right;\n",
       "    }\n",
       "</style>\n",
       "<table border=\"1\" class=\"dataframe\">\n",
       "  <thead>\n",
       "    <tr style=\"text-align: right;\">\n",
       "      <th></th>\n",
       "      <th>X</th>\n",
       "      <th>Y</th>\n",
       "      <th>PTAL2015</th>\n",
       "    </tr>\n",
       "  </thead>\n",
       "  <tbody>\n",
       "    <tr>\n",
       "      <th>0</th>\n",
       "      <td>530870</td>\n",
       "      <td>155930</td>\n",
       "      <td>0</td>\n",
       "    </tr>\n",
       "    <tr>\n",
       "      <th>1</th>\n",
       "      <td>530945</td>\n",
       "      <td>155898</td>\n",
       "      <td>0</td>\n",
       "    </tr>\n",
       "    <tr>\n",
       "      <th>2</th>\n",
       "      <td>531045</td>\n",
       "      <td>155898</td>\n",
       "      <td>0</td>\n",
       "    </tr>\n",
       "    <tr>\n",
       "      <th>3</th>\n",
       "      <td>531145</td>\n",
       "      <td>155898</td>\n",
       "      <td>0</td>\n",
       "    </tr>\n",
       "    <tr>\n",
       "      <th>4</th>\n",
       "      <td>531245</td>\n",
       "      <td>155898</td>\n",
       "      <td>0</td>\n",
       "    </tr>\n",
       "  </tbody>\n",
       "</table>\n",
       "</div>"
      ],
      "text/plain": [
       "        X       Y PTAL2015\n",
       "0  530870  155930        0\n",
       "1  530945  155898        0\n",
       "2  531045  155898        0\n",
       "3  531145  155898        0\n",
       "4  531245  155898        0"
      ]
     },
     "execution_count": 14,
     "metadata": {},
     "output_type": "execute_result"
    }
   ],
   "source": [
    "ptal_df.head()"
   ]
  },
  {
   "cell_type": "code",
   "execution_count": 15,
   "id": "3aa68d89-1f8b-4b3d-b868-243254dc7e03",
   "metadata": {},
   "outputs": [
    {
     "name": "stdout",
     "output_type": "stream",
     "text": [
      "<class 'pandas.core.frame.DataFrame'>\n",
      "RangeIndex: 159451 entries, 0 to 159450\n",
      "Data columns (total 3 columns):\n",
      " #   Column    Non-Null Count   Dtype \n",
      "---  ------    --------------   ----- \n",
      " 0   X         159451 non-null  int64 \n",
      " 1   Y         159451 non-null  int64 \n",
      " 2   PTAL2015  159451 non-null  object\n",
      "dtypes: int64(2), object(1)\n",
      "memory usage: 3.6+ MB\n"
     ]
    }
   ],
   "source": [
    "ptal_df.info()"
   ]
  },
  {
   "cell_type": "code",
   "execution_count": 16,
   "id": "2224cde7-dd88-4d80-8df6-c0eba4e8bb88",
   "metadata": {},
   "outputs": [
    {
     "data": {
      "text/plain": [
       "X           0\n",
       "Y           0\n",
       "PTAL2015    0\n",
       "dtype: int64"
      ]
     },
     "execution_count": 16,
     "metadata": {},
     "output_type": "execute_result"
    }
   ],
   "source": [
    "ptal_df.isna().sum()"
   ]
  },
  {
   "cell_type": "code",
   "execution_count": 17,
   "id": "8d789c86-1710-4aca-a75c-265a0cab0aa0",
   "metadata": {},
   "outputs": [
    {
     "data": {
      "text/plain": [
       "0"
      ]
     },
     "execution_count": 17,
     "metadata": {},
     "output_type": "execute_result"
    }
   ],
   "source": [
    "ptal_df.duplicated().sum()"
   ]
  },
  {
   "cell_type": "markdown",
   "id": "b5c023fe-62b9-41fe-95ff-3dc0397239bb",
   "metadata": {},
   "source": [
    "We then merge the msoa atlas and msoa boundary data into one data frame \"**merged_df**\" and convert it into a geodataframe \"**merged_gdf**\", and we will use the latitude and longitude data from the \"**ptal_df**\" to convert it into a geodataframe \"**ptal_gdf**\" as well, and we merge the two geodataframes into one (\"**ptal_msoa_gdf**\")."
   ]
  },
  {
   "cell_type": "code",
   "execution_count": 18,
   "id": "385bf31e-8570-446b-a945-c9d27d51658b",
   "metadata": {},
   "outputs": [],
   "source": [
    "warnings.filterwarnings(\"ignore\", category=ShapelyDeprecationWarning)\n",
    "\n",
    "# Merge two datasets with the same MSOA ID.\n",
    "merged_df = pd.merge(msoa_selected_df, msoa_selected_shapes, left_on='MSOA_Code', right_on='MSOA11CD')\n",
    "\n",
    "# Apply a function to each row in the ptal_df DataFrame\n",
    "ptal_df['geometry'] = ptal_df.apply(\n",
    "    # Define the lambda function to create a Point object using 'X' and 'Y' coordinates\n",
    "    lambda row: Point(row['X'], row['Y']),\n",
    "    # Specify that the function should be applied across rows (axis=1)\n",
    "    axis=1\n",
    ")\n",
    "\n",
    "# Converting two regular pandas DataFrames (ptal_df and merged_df) into GeoDataFrames (ptal_gdf and merged_gdf)\n",
    "ptal_gdf = gpd.GeoDataFrame(ptal_df, crs='EPSG:4326', geometry='geometry')\n",
    "merged_gdf = gpd.GeoDataFrame(merged_df, crs='EPSG:4326', geometry='geometry')"
   ]
  },
  {
   "cell_type": "code",
   "execution_count": 19,
   "id": "5f83f255-2a22-4fd2-b5ff-03421318b22d",
   "metadata": {},
   "outputs": [],
   "source": [
    "# Perform a spatial join between ptal_gdf and merged_gdf\n",
    "ptal_msoa_gdf = gpd.sjoin(\n",
    "    ptal_gdf,      # Left GeoDataFrame (public transportation accessibility data)\n",
    "    merged_gdf,    # Right GeoDataFrame (neighborhood socioeconomic data)\n",
    "    how='left',    # Type of join (keep all records from the left GeoDataFrame and their corresponding matches from the right GeoDataFrame)\n",
    "    predicate='within'    # Spatial predicate used for the join (records from the left GeoDataFrame are matched with records from the right GeoDataFrame if their geometries are within the right GeoDataFrame's geometry)\n",
    ")"
   ]
  },
  {
   "cell_type": "markdown",
   "id": "b5cdc173-4813-45c5-b7ae-39eb2d39c5af",
   "metadata": {},
   "source": [
    "PTAL scores are typically classified into nine grades: 0, 1a, 1b, 2, 3, 4, 5, 6a, and 6b. To simplify calculations in this study, we reorganize these grades into nine consecutive scores: 0, 1, 2, 3, 4, 5, 6, 7, and 8. Here, 0 corresponds to the original grade 0, 1 corresponds to the original grade 1a, and so forth. We then use the **MSOA_code** as a consistent identifier and calculate the average of all PTAL scores within each region to represent the final PTAL score for that region. After processing the data, we obtain the final dataframe, \"**msoa_with_ptal**\"."
   ]
  },
  {
   "cell_type": "code",
   "execution_count": 20,
   "id": "03c103ce-3103-4eb5-bd73-832390a7ba1f",
   "metadata": {},
   "outputs": [],
   "source": [
    "# Split the PTAL values into nine classes\n",
    "ptal_scores = {\n",
    "    '0': 0,\n",
    "    '1a': 1,\n",
    "    '1b': 2,\n",
    "    '2': 3,\n",
    "    '3': 4,\n",
    "    '4': 5,\n",
    "    '5': 6,\n",
    "    '6a': 7,\n",
    "    '6b': 8,\n",
    "}\n",
    "ptal_msoa_gdf['PTAL_scores'] = ptal_msoa_gdf['PTAL2015'].replace(ptal_scores)"
   ]
  },
  {
   "cell_type": "code",
   "execution_count": 21,
   "id": "fe1a2256-162f-4967-bfbb-7e9874eba35f",
   "metadata": {},
   "outputs": [],
   "source": [
    "# Group the ptal_msoa_gdf GeoDataFrame by MSOA_Code (neighborhood identifier)\n",
    "# and calculate the mean of PTAL_scores (public transportation accessibility level) for each group\n",
    "ptal_msoa_mean = ptal_msoa_gdf.groupby('MSOA_Code')['PTAL_scores'].mean().reset_index()"
   ]
  },
  {
   "cell_type": "code",
   "execution_count": 22,
   "id": "c8034253-b5bc-41c5-8c72-cc47984217a5",
   "metadata": {},
   "outputs": [],
   "source": [
    "# Merge the dataset\n",
    "msoa_with_ptal = merged_gdf.merge(ptal_msoa_mean, on='MSOA_Code', how='left')"
   ]
  },
  {
   "cell_type": "code",
   "execution_count": 23,
   "id": "f58cdc4f-b04b-4556-83d1-376520522498",
   "metadata": {},
   "outputs": [],
   "source": [
    "# Drop columns that are not necessary for the analysis\n",
    "msoa_with_ptal = msoa_with_ptal.drop(['MSOA_Name','MSOA11CD','MSOA11NM','geometry'],axis=1)"
   ]
  },
  {
   "cell_type": "code",
   "execution_count": 24,
   "id": "6758a06b-5790-4e72-9b19-7422ab7fce0e",
   "metadata": {},
   "outputs": [
    {
     "name": "stdout",
     "output_type": "stream",
     "text": [
      "<class 'pandas.core.frame.DataFrame'>\n",
      "Int64Index: 983 entries, 0 to 982\n",
      "Data columns (total 11 columns):\n",
      " #   Column                          Non-Null Count  Dtype  \n",
      "---  ------                          --------------  -----  \n",
      " 0   MSOA_Code                       983 non-null    object \n",
      " 1   Mean_Annual_Household_Income    983 non-null    int64  \n",
      " 2   Median_Annual_Household_Income  983 non-null    int64  \n",
      " 3   Highest_Level4_Qualifications   983 non-null    int64  \n",
      " 4   Social_Rented_Percentage        983 non-null    float64\n",
      " 5   Private_Rented_Percentage       983 non-null    float64\n",
      " 6   No_Car_or_Van_Percentage        983 non-null    float64\n",
      " 7   Cars_per_Household              983 non-null    float64\n",
      " 8   Median_House_Price_2011         983 non-null    int64  \n",
      " 9   Unemployment_Rate               983 non-null    float64\n",
      " 10  PTAL_scores                     983 non-null    float64\n",
      "dtypes: float64(6), int64(4), object(1)\n",
      "memory usage: 92.2+ KB\n"
     ]
    }
   ],
   "source": [
    "msoa_with_ptal.info()"
   ]
  },
  {
   "cell_type": "code",
   "execution_count": 25,
   "id": "e6ede90c-3674-475c-a07f-da2688321c60",
   "metadata": {},
   "outputs": [
    {
     "data": {
      "text/plain": [
       "MSOA_Code                         0\n",
       "Mean_Annual_Household_Income      0\n",
       "Median_Annual_Household_Income    0\n",
       "Highest_Level4_Qualifications     0\n",
       "Social_Rented_Percentage          0\n",
       "Private_Rented_Percentage         0\n",
       "No_Car_or_Van_Percentage          0\n",
       "Cars_per_Household                0\n",
       "Median_House_Price_2011           0\n",
       "Unemployment_Rate                 0\n",
       "PTAL_scores                       0\n",
       "dtype: int64"
      ]
     },
     "execution_count": 25,
     "metadata": {},
     "output_type": "execute_result"
    }
   ],
   "source": [
    "msoa_with_ptal.isna().sum()"
   ]
  },
  {
   "cell_type": "code",
   "execution_count": 26,
   "id": "aeff49ff-54cc-4f22-95ec-638a7d5e7913",
   "metadata": {},
   "outputs": [
    {
     "data": {
      "text/plain": [
       "0"
      ]
     },
     "execution_count": 26,
     "metadata": {},
     "output_type": "execute_result"
    }
   ],
   "source": [
    "msoa_with_ptal.duplicated().sum()"
   ]
  },
  {
   "cell_type": "markdown",
   "id": "9f1bce72-0888-4942-9b90-0b541c233c4a",
   "metadata": {},
   "source": [
    "After merging and simply processing the data frames, we first visualise each data column in individual **histograms** to observe its distribution."
   ]
  },
  {
   "cell_type": "code",
   "execution_count": 27,
   "id": "995d5ba0-7175-49cd-96c7-83f5c568d07f",
   "metadata": {},
   "outputs": [
    {
     "data": {
      "image/png": "[encoded data removed]",
      "text/plain": [
       "<Figure size 1080x1080 with 12 Axes>"
      ]
     },
     "metadata": {
      "needs_background": "light"
     },
     "output_type": "display_data"
    }
   ],
   "source": [
    "# Create histograms for each numeric column in the msoa_with_ptal GeoDataFrame\n",
    "msoa_with_ptal.hist(figsize=(15, 15), bins=20)\n",
    "\n",
    "# Adjust the spacing between subplots to minimize overlaps\n",
    "plt.tight_layout()\n",
    "\n",
    "# Display the histograms\n",
    "plt.show()"
   ]
  },
  {
   "cell_type": "markdown",
   "id": "4c6969ba-2625-4955-b98f-648f4620eb1f",
   "metadata": {},
   "source": [
    "We employ **box plots** and the **Interquartile Range (IQR) method** for outlier detection. Box plots help visualize data distribution, making it simpler to spot extreme values. The IQR method concentrates on the data's central 50%, offering a more robust measure of dispersion less influenced by extreme values than mean and standard deviation-based approaches."
   ]
  },
  {
   "cell_type": "code",
   "execution_count": 28,
   "id": "7afed269-ce81-4144-880a-b3d640cbd51a",
   "metadata": {},
   "outputs": [
    {
     "data": {
      "image/png": "[encoded data removed]",
      "text/plain": [
       "<Figure size 432x288 with 1 Axes>"
      ]
     },
     "metadata": {
      "needs_background": "light"
     },
     "output_type": "display_data"
    },
    {
     "data": {
      "image/png": "[encoded data removed]",
      "text/plain": [
       "<Figure size 432x288 with 1 Axes>"
      ]
     },
     "metadata": {
      "needs_background": "light"
     },
     "output_type": "display_data"
    },
    {
     "data": {
      "image/png": "[encoded data removed]",
      "text/plain": [
       "<Figure size 432x288 with 1 Axes>"
      ]
     },
     "metadata": {
      "needs_background": "light"
     },
     "output_type": "display_data"
    },
    {
     "data": {
      "image/png": "[encoded data removed]",
      "text/plain": [
       "<Figure size 432x288 with 1 Axes>"
      ]
     },
     "metadata": {
      "needs_background": "light"
     },
     "output_type": "display_data"
    },
    {
     "data": {
      "image/png": "[encoded data removed]",
      "text/plain": [
       "<Figure size 432x288 with 1 Axes>"
      ]
     },
     "metadata": {
      "needs_background": "light"
     },
     "output_type": "display_data"
    },
    {
     "data": {
      "image/png": "[encoded data removed]",
      "text/plain": [
       "<Figure size 432x288 with 1 Axes>"
      ]
     },
     "metadata": {
      "needs_background": "light"
     },
     "output_type": "display_data"
    },
    {
     "data": {
      "image/png": "[encoded data removed]",
      "text/plain": [
       "<Figure size 432x288 with 1 Axes>"
      ]
     },
     "metadata": {
      "needs_background": "light"
     },
     "output_type": "display_data"
    },
    {
     "data": {
      "image/png": "[encoded data removed]",
      "text/plain": [
       "<Figure size 432x288 with 1 Axes>"
      ]
     },
     "metadata": {
      "needs_background": "light"
     },
     "output_type": "display_data"
    },
    {
     "data": {
      "image/png": "[encoded data removed]",
      "text/plain": [
       "<Figure size 432x288 with 1 Axes>"
      ]
     },
     "metadata": {
      "needs_background": "light"
     },
     "output_type": "display_data"
    },
    {
     "data": {
      "image/png": "[encoded data removed]",
      "text/plain": [
       "<Figure size 432x288 with 1 Axes>"
      ]
     },
     "metadata": {
      "needs_background": "light"
     },
     "output_type": "display_data"
    }
   ],
   "source": [
    "# Create a box plot for each variable\n",
    "for column in msoa_with_ptal.columns:\n",
    "    if column != 'MSOA_Code':\n",
    "        plt.figure()\n",
    "        sns.boxplot(x=msoa_with_ptal[column])\n",
    "        plt.title(column)\n",
    "        plt.show()"
   ]
  },
  {
   "cell_type": "code",
   "execution_count": 29,
   "id": "0d9057b4-eb7d-41a5-b6f2-db227104eef2",
   "metadata": {},
   "outputs": [
    {
     "name": "stdout",
     "output_type": "stream",
     "text": [
      "{'Mean_Annual_Household_Income': [166, 168, 396, 584, 586, 587, 588, 592, 594, 595, 596, 690, 834, 888, 927, 930, 936, 938, 959, 965, 966, 969, 976, 977], 'Median_Annual_Household_Income': [55, 166, 168, 396, 584, 586, 587, 588, 592, 635, 690, 834, 888, 930, 936, 938, 969, 977], 'Highest_Level4_Qualifications': [256, 364, 370, 631, 807, 889, 929, 931, 947], 'Social_Rented_Percentage': [125, 356, 577, 578, 581, 814, 819, 821], 'Private_Rented_Percentage': [893, 970, 974], 'No_Car_or_Van_Percentage': [], 'Cars_per_Household': [], 'Median_House_Price_2011': [29, 55, 166, 168, 172, 175, 178, 181, 182, 270, 381, 392, 396, 397, 418, 448, 526, 531, 582, 583, 584, 585, 586, 587, 588, 589, 590, 592, 593, 594, 595, 596, 597, 599, 689, 690, 698, 782, 783, 786, 793, 834, 927, 938, 959, 960, 965, 966, 969, 970, 971, 972, 973, 974, 976, 977, 978, 981], 'Unemployment_Rate': [356, 362, 399, 881], 'PTAL_scores': [0, 183, 187, 188, 189, 190, 191, 192, 360, 370, 379, 385, 569, 574, 575, 576, 582, 588, 590, 591, 592, 593, 619, 632, 652, 806, 812, 837, 872, 874, 876, 878, 882, 929, 933, 969, 970, 971, 973, 974, 975, 976, 978, 980, 981]}\n"
     ]
    }
   ],
   "source": [
    "# Define a function to detect outliers using the IQR method\n",
    "def detect_outliers_iqr(dataframe):\n",
    "    outliers = {}\n",
    "    for column in dataframe.columns:\n",
    "        if dataframe[column].dtype != 'object':  # Skip columns with 'object' (string) data type\n",
    "            Q1 = dataframe[column].quantile(0.25)\n",
    "            Q3 = dataframe[column].quantile(0.75)\n",
    "            IQR = Q3 - Q1\n",
    "            lower_bound = Q1 - 1.5 * IQR\n",
    "            upper_bound = Q3 + 1.5 * IQR\n",
    "            outliers[column] = dataframe[column][(dataframe[column] < lower_bound) | (dataframe[column] > upper_bound)].index.tolist()\n",
    "    return outliers\n",
    "\n",
    "# Detect outliers in the msoa_with_ptal dataframe\n",
    "outliers = detect_outliers_iqr(msoa_with_ptal)\n",
    "print(outliers)"
   ]
  },
  {
   "cell_type": "markdown",
   "id": "5b886342-7594-44a3-946f-ffe0b7c7a182",
   "metadata": {},
   "source": [
    "In this project, we retain rows with outliers to prevent significant data loss and preserve valuable information. Outliers represent real-world situations or rare events and removing them may create a biased dataset. Instead, we use the Robust Scaler method, which is less sensitive to outliers. By utilizing median and interquartile spacing (IQR) instead of mean and standard deviation, this scaling method is more robust, making it suitable for datasets where outliers are expected or cannot be confidently removed."
   ]
  },
  {
   "cell_type": "code",
   "execution_count": 30,
   "id": "3ca3bbe6-f2ca-4a69-8fa9-a063137cb36f",
   "metadata": {},
   "outputs": [
    {
     "data": {
      "text/html": [
       "<div>\n",
       "<style scoped>\n",
       "    .dataframe tbody tr th:only-of-type {\n",
       "        vertical-align: middle;\n",
       "    }\n",
       "\n",
       "    .dataframe tbody tr th {\n",
       "        vertical-align: top;\n",
       "    }\n",
       "\n",
       "    .dataframe thead th {\n",
       "        text-align: right;\n",
       "    }\n",
       "</style>\n",
       "<table border=\"1\" class=\"dataframe\">\n",
       "  <thead>\n",
       "    <tr style=\"text-align: right;\">\n",
       "      <th></th>\n",
       "      <th>MSOA_Code</th>\n",
       "      <th>Mean_Annual_Household_Income</th>\n",
       "      <th>Median_Annual_Household_Income</th>\n",
       "      <th>Highest_Level4_Qualifications</th>\n",
       "      <th>Social_Rented_Percentage</th>\n",
       "      <th>Private_Rented_Percentage</th>\n",
       "      <th>No_Car_or_Van_Percentage</th>\n",
       "      <th>Cars_per_Household</th>\n",
       "      <th>Median_House_Price_2011</th>\n",
       "      <th>Unemployment_Rate</th>\n",
       "      <th>PTAL_scores</th>\n",
       "    </tr>\n",
       "  </thead>\n",
       "  <tbody>\n",
       "    <tr>\n",
       "      <th>0</th>\n",
       "      <td>E02000001</td>\n",
       "      <td>0.9218</td>\n",
       "      <td>0.9835</td>\n",
       "      <td>1.5826</td>\n",
       "      <td>-0.1429</td>\n",
       "      <td>0.7582</td>\n",
       "      <td>1.0517</td>\n",
       "      <td>-0.7273</td>\n",
       "      <td>1.4054</td>\n",
       "      <td>-0.7857</td>\n",
       "      <td>2.8227</td>\n",
       "    </tr>\n",
       "    <tr>\n",
       "      <th>1</th>\n",
       "      <td>E02000002</td>\n",
       "      <td>-0.4917</td>\n",
       "      <td>-0.3668</td>\n",
       "      <td>-0.9518</td>\n",
       "      <td>0.9202</td>\n",
       "      <td>-0.9412</td>\n",
       "      <td>-0.0448</td>\n",
       "      <td>0.0000</td>\n",
       "      <td>-0.6126</td>\n",
       "      <td>1.1190</td>\n",
       "      <td>-0.4390</td>\n",
       "    </tr>\n",
       "    <tr>\n",
       "      <th>2</th>\n",
       "      <td>E02000003</td>\n",
       "      <td>0.0936</td>\n",
       "      <td>0.3023</td>\n",
       "      <td>-0.3257</td>\n",
       "      <td>-0.3487</td>\n",
       "      <td>-0.1765</td>\n",
       "      <td>-0.2655</td>\n",
       "      <td>0.3636</td>\n",
       "      <td>-0.5045</td>\n",
       "      <td>0.4762</td>\n",
       "      <td>-0.2746</td>\n",
       "    </tr>\n",
       "    <tr>\n",
       "      <th>3</th>\n",
       "      <td>E02000004</td>\n",
       "      <td>0.2628</td>\n",
       "      <td>0.4962</td>\n",
       "      <td>-0.9675</td>\n",
       "      <td>-0.1639</td>\n",
       "      <td>-0.9477</td>\n",
       "      <td>-0.5138</td>\n",
       "      <td>0.5455</td>\n",
       "      <td>-0.5495</td>\n",
       "      <td>0.5238</td>\n",
       "      <td>-0.6753</td>\n",
       "    </tr>\n",
       "    <tr>\n",
       "      <th>4</th>\n",
       "      <td>E02000005</td>\n",
       "      <td>-0.3649</td>\n",
       "      <td>-0.2233</td>\n",
       "      <td>-0.8115</td>\n",
       "      <td>0.2101</td>\n",
       "      <td>-0.6013</td>\n",
       "      <td>-0.1724</td>\n",
       "      <td>0.1818</td>\n",
       "      <td>-0.7568</td>\n",
       "      <td>0.6190</td>\n",
       "      <td>-0.2644</td>\n",
       "    </tr>\n",
       "  </tbody>\n",
       "</table>\n",
       "</div>"
      ],
      "text/plain": [
       "   MSOA_Code             Mean_Annual_Household_Income  \\\n",
       "0  E02000001                                   0.9218   \n",
       "1  E02000002                                  -0.4917   \n",
       "2  E02000003                                   0.0936   \n",
       "3  E02000004                                   0.2628   \n",
       "4  E02000005                                  -0.3649   \n",
       "\n",
       "            Median_Annual_Household_Income  \\\n",
       "0                                   0.9835   \n",
       "1                                  -0.3668   \n",
       "2                                   0.3023   \n",
       "3                                   0.4962   \n",
       "4                                  -0.2233   \n",
       "\n",
       "             Highest_Level4_Qualifications  \\\n",
       "0                                   1.5826   \n",
       "1                                  -0.9518   \n",
       "2                                  -0.3257   \n",
       "3                                  -0.9675   \n",
       "4                                  -0.8115   \n",
       "\n",
       "                  Social_Rented_Percentage  \\\n",
       "0                                  -0.1429   \n",
       "1                                   0.9202   \n",
       "2                                  -0.3487   \n",
       "3                                  -0.1639   \n",
       "4                                   0.2101   \n",
       "\n",
       "                 Private_Rented_Percentage  \\\n",
       "0                                   0.7582   \n",
       "1                                  -0.9412   \n",
       "2                                  -0.1765   \n",
       "3                                  -0.9477   \n",
       "4                                  -0.6013   \n",
       "\n",
       "                  No_Car_or_Van_Percentage  \\\n",
       "0                                   1.0517   \n",
       "1                                  -0.0448   \n",
       "2                                  -0.2655   \n",
       "3                                  -0.5138   \n",
       "4                                  -0.1724   \n",
       "\n",
       "                        Cars_per_Household  \\\n",
       "0                                  -0.7273   \n",
       "1                                   0.0000   \n",
       "2                                   0.3636   \n",
       "3                                   0.5455   \n",
       "4                                   0.1818   \n",
       "\n",
       "                   Median_House_Price_2011  \\\n",
       "0                                   1.4054   \n",
       "1                                  -0.6126   \n",
       "2                                  -0.5045   \n",
       "3                                  -0.5495   \n",
       "4                                  -0.7568   \n",
       "\n",
       "                         Unemployment_Rate  \\\n",
       "0                                  -0.7857   \n",
       "1                                   1.1190   \n",
       "2                                   0.4762   \n",
       "3                                   0.5238   \n",
       "4                                   0.6190   \n",
       "\n",
       "                               PTAL_scores  \n",
       "0                                   2.8227  \n",
       "1                                  -0.4390  \n",
       "2                                  -0.2746  \n",
       "3                                  -0.6753  \n",
       "4                                  -0.2644  "
      ]
     },
     "execution_count": 30,
     "metadata": {},
     "output_type": "execute_result"
    }
   ],
   "source": [
    "# Create a new DataFrame to store the scaled data\n",
    "msoa_with_ptal_scaled = msoa_with_ptal.copy()\n",
    "\n",
    "# Initialize the RobustScaler\n",
    "scaler = RobustScaler()\n",
    "\n",
    "# Select the columns to scale (excluding categorical columns)\n",
    "columns = [col for col in msoa_with_ptal.columns if msoa_with_ptal[col].dtype != 'object']\n",
    "\n",
    "# Apply the scaler to the selected columns\n",
    "msoa_with_ptal_scaled[columns] = scaler.fit_transform(msoa_with_ptal[columns])\n",
    "\n",
    "# Check the transformed DataFrame\n",
    "msoa_with_ptal_scaled.head()"
   ]
  },
  {
   "cell_type": "code",
   "execution_count": 31,
   "id": "fd7f22cf-59d1-47d5-8cc7-adea0d7828f1",
   "metadata": {},
   "outputs": [
    {
     "data": {
      "text/html": [
       "<div>\n",
       "<style scoped>\n",
       "    .dataframe tbody tr th:only-of-type {\n",
       "        vertical-align: middle;\n",
       "    }\n",
       "\n",
       "    .dataframe tbody tr th {\n",
       "        vertical-align: top;\n",
       "    }\n",
       "\n",
       "    .dataframe thead th {\n",
       "        text-align: right;\n",
       "    }\n",
       "</style>\n",
       "<table border=\"1\" class=\"dataframe\">\n",
       "  <thead>\n",
       "    <tr style=\"text-align: right;\">\n",
       "      <th></th>\n",
       "      <th>Mean_Annual_Household_Income</th>\n",
       "      <th>Median_Annual_Household_Income</th>\n",
       "      <th>Highest_Level4_Qualifications</th>\n",
       "      <th>Social_Rented_Percentage</th>\n",
       "      <th>Private_Rented_Percentage</th>\n",
       "      <th>No_Car_or_Van_Percentage</th>\n",
       "      <th>Cars_per_Household</th>\n",
       "      <th>Median_House_Price_2011</th>\n",
       "      <th>Unemployment_Rate</th>\n",
       "      <th>PTAL_scores</th>\n",
       "    </tr>\n",
       "  </thead>\n",
       "  <tbody>\n",
       "    <tr>\n",
       "      <th>count</th>\n",
       "      <td>983.0000</td>\n",
       "      <td>983.0000</td>\n",
       "      <td>983.0000</td>\n",
       "      <td>983.0000</td>\n",
       "      <td>983.0000</td>\n",
       "      <td>983.0000</td>\n",
       "      <td>983.0000</td>\n",
       "      <td>983.0000</td>\n",
       "      <td>983.0000</td>\n",
       "      <td>983.0000</td>\n",
       "    </tr>\n",
       "    <tr>\n",
       "      <th>mean</th>\n",
       "      <td>0.2174</td>\n",
       "      <td>0.2087</td>\n",
       "      <td>0.1423</td>\n",
       "      <td>0.1590</td>\n",
       "      <td>0.0092</td>\n",
       "      <td>0.0548</td>\n",
       "      <td>0.0686</td>\n",
       "      <td>0.3365</td>\n",
       "      <td>0.0666</td>\n",
       "      <td>0.2506</td>\n",
       "    </tr>\n",
       "    <tr>\n",
       "      <th>std</th>\n",
       "      <td>0.7795</td>\n",
       "      <td>0.7511</td>\n",
       "      <td>0.7226</td>\n",
       "      <td>0.6956</td>\n",
       "      <td>0.6942</td>\n",
       "      <td>0.5911</td>\n",
       "      <td>0.6110</td>\n",
       "      <td>1.1180</td>\n",
       "      <td>0.6760</td>\n",
       "      <td>0.8391</td>\n",
       "    </tr>\n",
       "    <tr>\n",
       "      <th>min</th>\n",
       "      <td>-0.9683</td>\n",
       "      <td>-0.9952</td>\n",
       "      <td>-1.2200</td>\n",
       "      <td>-0.8151</td>\n",
       "      <td>-1.3660</td>\n",
       "      <td>-1.0759</td>\n",
       "      <td>-1.0909</td>\n",
       "      <td>-1.0378</td>\n",
       "      <td>-1.0952</td>\n",
       "      <td>-1.1627</td>\n",
       "    </tr>\n",
       "    <tr>\n",
       "      <th>25%</th>\n",
       "      <td>-0.3729</td>\n",
       "      <td>-0.3660</td>\n",
       "      <td>-0.4191</td>\n",
       "      <td>-0.3971</td>\n",
       "      <td>-0.5163</td>\n",
       "      <td>-0.4448</td>\n",
       "      <td>-0.4545</td>\n",
       "      <td>-0.3333</td>\n",
       "      <td>-0.4762</td>\n",
       "      <td>-0.3343</td>\n",
       "    </tr>\n",
       "    <tr>\n",
       "      <th>50%</th>\n",
       "      <td>0.0000</td>\n",
       "      <td>0.0000</td>\n",
       "      <td>0.0000</td>\n",
       "      <td>0.0000</td>\n",
       "      <td>0.0000</td>\n",
       "      <td>0.0000</td>\n",
       "      <td>0.0000</td>\n",
       "      <td>0.0000</td>\n",
       "      <td>0.0000</td>\n",
       "      <td>0.0000</td>\n",
       "    </tr>\n",
       "    <tr>\n",
       "      <th>75%</th>\n",
       "      <td>0.6271</td>\n",
       "      <td>0.6340</td>\n",
       "      <td>0.5809</td>\n",
       "      <td>0.6029</td>\n",
       "      <td>0.4837</td>\n",
       "      <td>0.5552</td>\n",
       "      <td>0.5455</td>\n",
       "      <td>0.6667</td>\n",
       "      <td>0.5238</td>\n",
       "      <td>0.6657</td>\n",
       "    </tr>\n",
       "    <tr>\n",
       "      <th>max</th>\n",
       "      <td>5.0517</td>\n",
       "      <td>3.9411</td>\n",
       "      <td>3.3787</td>\n",
       "      <td>2.2773</td>\n",
       "      <td>2.1830</td>\n",
       "      <td>1.5034</td>\n",
       "      <td>2.0000</td>\n",
       "      <td>10.6667</td>\n",
       "      <td>2.4524</td>\n",
       "      <td>2.8369</td>\n",
       "    </tr>\n",
       "  </tbody>\n",
       "</table>\n",
       "</div>"
      ],
      "text/plain": [
       "                  Mean_Annual_Household_Income  \\\n",
       "count                                 983.0000   \n",
       "mean                                    0.2174   \n",
       "std                                     0.7795   \n",
       "min                                    -0.9683   \n",
       "25%                                    -0.3729   \n",
       "50%                                     0.0000   \n",
       "75%                                     0.6271   \n",
       "max                                     5.0517   \n",
       "\n",
       "                Median_Annual_Household_Income  \\\n",
       "count                                 983.0000   \n",
       "mean                                    0.2087   \n",
       "std                                     0.7511   \n",
       "min                                    -0.9952   \n",
       "25%                                    -0.3660   \n",
       "50%                                     0.0000   \n",
       "75%                                     0.6340   \n",
       "max                                     3.9411   \n",
       "\n",
       "                 Highest_Level4_Qualifications  \\\n",
       "count                                 983.0000   \n",
       "mean                                    0.1423   \n",
       "std                                     0.7226   \n",
       "min                                    -1.2200   \n",
       "25%                                    -0.4191   \n",
       "50%                                     0.0000   \n",
       "75%                                     0.5809   \n",
       "max                                     3.3787   \n",
       "\n",
       "                      Social_Rented_Percentage  \\\n",
       "count                                 983.0000   \n",
       "mean                                    0.1590   \n",
       "std                                     0.6956   \n",
       "min                                    -0.8151   \n",
       "25%                                    -0.3971   \n",
       "50%                                     0.0000   \n",
       "75%                                     0.6029   \n",
       "max                                     2.2773   \n",
       "\n",
       "                     Private_Rented_Percentage  \\\n",
       "count                                 983.0000   \n",
       "mean                                    0.0092   \n",
       "std                                     0.6942   \n",
       "min                                    -1.3660   \n",
       "25%                                    -0.5163   \n",
       "50%                                     0.0000   \n",
       "75%                                     0.4837   \n",
       "max                                     2.1830   \n",
       "\n",
       "                      No_Car_or_Van_Percentage  \\\n",
       "count                                 983.0000   \n",
       "mean                                    0.0548   \n",
       "std                                     0.5911   \n",
       "min                                    -1.0759   \n",
       "25%                                    -0.4448   \n",
       "50%                                     0.0000   \n",
       "75%                                     0.5552   \n",
       "max                                     1.5034   \n",
       "\n",
       "                            Cars_per_Household  \\\n",
       "count                                 983.0000   \n",
       "mean                                    0.0686   \n",
       "std                                     0.6110   \n",
       "min                                    -1.0909   \n",
       "25%                                    -0.4545   \n",
       "50%                                     0.0000   \n",
       "75%                                     0.5455   \n",
       "max                                     2.0000   \n",
       "\n",
       "                       Median_House_Price_2011  \\\n",
       "count                                 983.0000   \n",
       "mean                                    0.3365   \n",
       "std                                     1.1180   \n",
       "min                                    -1.0378   \n",
       "25%                                    -0.3333   \n",
       "50%                                     0.0000   \n",
       "75%                                     0.6667   \n",
       "max                                    10.6667   \n",
       "\n",
       "                             Unemployment_Rate  \\\n",
       "count                                 983.0000   \n",
       "mean                                    0.0666   \n",
       "std                                     0.6760   \n",
       "min                                    -1.0952   \n",
       "25%                                    -0.4762   \n",
       "50%                                     0.0000   \n",
       "75%                                     0.5238   \n",
       "max                                     2.4524   \n",
       "\n",
       "                                   PTAL_scores  \n",
       "count                                 983.0000  \n",
       "mean                                    0.2506  \n",
       "std                                     0.8391  \n",
       "min                                    -1.1627  \n",
       "25%                                    -0.3343  \n",
       "50%                                     0.0000  \n",
       "75%                                     0.6657  \n",
       "max                                     2.8369  "
      ]
     },
     "execution_count": 31,
     "metadata": {},
     "output_type": "execute_result"
    }
   ],
   "source": [
    "msoa_with_ptal_scaled.describe()"
   ]
  },
  {
   "cell_type": "markdown",
   "id": "da70ac41-efc1-4945-9c82-87f625729bbc",
   "metadata": {},
   "source": [
    "## Methodology\n",
    "\n",
    "In this literature-informed study, we apply four regression models to our research question:\n",
    "- Linear Regression: A simple, widely-used technique for modelling relationships between variables (James et al., 2013).\n",
    "- Lasso Regression: A linear regression variant with regularization, preventing overfitting and aiding feature selection (Zou & Hastie, 2005).\n",
    "- Random Forest Regression: An ensemble decision tree method that captures complex relationships, handles numerous features, and is robust to multicollinearity (Breiman, 2001).\n",
    "- Extreme Gradient Boosting Regression: A high-performing, scalable ensemble decision tree method that captures non-linear relationships (Chen & Guestrin, 2016).\n",
    "\n",
    "We will compare these models using cross-validation and performance metrics (e.g., MSE, R-squared) to determine the best model for our problem. We will also consider interpretability and computational complexity.\n",
    "\n",
    "We use PTAL_scores as the dependent variable and the remaining data columns as independent variables. The data is divided into training and testing sets for model training and evaluation."
   ]
  },
  {
   "cell_type": "code",
   "execution_count": 32,
   "id": "6c32abf5-ba2a-461d-bc36-0fc78c0ffe89",
   "metadata": {},
   "outputs": [],
   "source": [
    "# Prepare the input features (X) and target variable (y)\n",
    "socioeconomic_factors = ['Mean_Annual_Household_Income', \n",
    "                         'Median_Annual_Household_Income',\n",
    "                         'Highest_Level4_Qualifications',\n",
    "                         'Social_Rented_Percentage',\n",
    "                         'Private_Rented_Percentage',\n",
    "                         'No_Car_or_Van_Percentage',\n",
    "                         'Cars_per_Household',\n",
    "                         'Median_House_Price_2011',\n",
    "                         'Unemployment_Rate'\n",
    "                        ]\n",
    "\n",
    "X = msoa_with_ptal_scaled[socioeconomic_factors].values\n",
    "y = msoa_with_ptal_scaled['PTAL_scores'].values\n",
    "\n",
    "# Split the data into train and test sets\n",
    "X_train, X_test, y_train, y_test = train_test_split(X, y, test_size=0.3, random_state=random_state)"
   ]
  },
  {
   "cell_type": "markdown",
   "id": "991c91ef-9de7-47d1-b30e-d0f16f55d02a",
   "metadata": {},
   "source": [
    "### Linear Regression"
   ]
  },
  {
   "cell_type": "code",
   "execution_count": 33,
   "id": "71e4d38d-1640-45c8-90ac-c1cec0989b19",
   "metadata": {},
   "outputs": [
    {
     "name": "stdout",
     "output_type": "stream",
     "text": [
      "Training set:\n",
      "MSE: 0.1609539935792723\n",
      "R-squared: 0.761620507656054\n",
      "\n",
      "Testing set:\n",
      "MSE: 0.1907996881276616\n",
      "R-squared: 0.7503585618945019\n"
     ]
    }
   ],
   "source": [
    "# Create a linear regression model\n",
    "lr_model = LinearRegression()\n",
    "lr_model.fit(X_train, y_train)\n",
    "\n",
    "# Make predictions on the training and testing datasets\n",
    "y_train_pred = lr_model.predict(X_train)\n",
    "y_test_pred = lr_model.predict(X_test)\n",
    "\n",
    "# Calculate and print the MSE and R-squared values for both datasets\n",
    "mse_train_lr = mean_squared_error(y_train, y_train_pred)\n",
    "mse_test_lr = mean_squared_error(y_test, y_test_pred)\n",
    "r2_train_lr = r2_score(y_train, y_train_pred)\n",
    "r2_test_lr = r2_score(y_test, y_test_pred)\n",
    "\n",
    "print(\"Training set:\")\n",
    "print(f\"MSE: {mse_train_lr}\")\n",
    "print(f\"R-squared: {r2_train_lr}\")\n",
    "\n",
    "print(\"\\nTesting set:\")\n",
    "print(f\"MSE: {mse_test_lr}\")\n",
    "print(f\"R-squared: {r2_test_lr}\")"
   ]
  },
  {
   "cell_type": "markdown",
   "id": "c75416c1-2b00-44e8-b653-511760a5c043",
   "metadata": {},
   "source": [
    "### Lasso Regression"
   ]
  },
  {
   "cell_type": "code",
   "execution_count": 34,
   "id": "a3d11540-d79f-4fab-a36b-144400585339",
   "metadata": {},
   "outputs": [
    {
     "name": "stdout",
     "output_type": "stream",
     "text": [
      "Best hyperparameters:\n",
      "{'alpha': 0.0001}\n",
      "\n",
      "Training set:\n",
      "MSE: 0.1609608768575314\n",
      "R-squared: 0.7616103132375088\n",
      "\n",
      "Testing set:\n",
      "MSE: 0.19081207081147183\n",
      "R-squared: 0.7503423604477159\n"
     ]
    }
   ],
   "source": [
    "# Define the hyperparameter grid for Lasso regression\n",
    "param_grid_lasso = {\n",
    "    \"alpha\": np.logspace(-4, 1, 500)  # Varying alpha (the regularization strength) on a logarithmic scale\n",
    "}\n",
    "\n",
    "# Create a Lasso regression model\n",
    "lasso_model = Lasso()\n",
    "\n",
    "# Set up the grid search with 5-fold cross-validation\n",
    "grid_search_lasso = GridSearchCV(lasso_model, param_grid_lasso, cv=5, scoring=\"neg_mean_squared_error\", n_jobs=-1)\n",
    "\n",
    "# Fit the GridSearchCV model to the training data\n",
    "grid_search_lasso.fit(X_train, y_train)\n",
    "\n",
    "# Get the best hyperparameters\n",
    "best_params_lasso = grid_search_lasso.best_params_\n",
    "print(\"Best hyperparameters:\")\n",
    "print(best_params_lasso)\n",
    "\n",
    "# Train the best Lasso regression model with the best hyperparameters\n",
    "best_lasso = grid_search_lasso.best_estimator_\n",
    "best_lasso.fit(X_train, y_train)\n",
    "\n",
    "# Make predictions on the training and testing datasets\n",
    "y_train_pred_lasso = best_lasso.predict(X_train)\n",
    "y_test_pred_lasso = best_lasso.predict(X_test)\n",
    "\n",
    "# Calculate and print the MSE and R-squared values for both datasets\n",
    "mse_train_lasso = mean_squared_error(y_train, y_train_pred_lasso)\n",
    "mse_test_lasso = mean_squared_error(y_test, y_test_pred_lasso)\n",
    "r2_train_lasso = r2_score(y_train, y_train_pred_lasso)\n",
    "r2_test_lasso = r2_score(y_test, y_test_pred_lasso)\n",
    "\n",
    "print(\"\\nTraining set:\")\n",
    "print(f\"MSE: {mse_train_lasso}\")\n",
    "print(f\"R-squared: {r2_train_lasso}\")\n",
    "\n",
    "print(\"\\nTesting set:\")\n",
    "print(f\"MSE: {mse_test_lasso}\")\n",
    "print(f\"R-squared: {r2_test_lasso}\")"
   ]
  },
  {
   "cell_type": "markdown",
   "id": "7a8f3f18-7d26-497f-9b77-249b1e92874e",
   "metadata": {},
   "source": [
    "### Random Forest Regression"
   ]
  },
  {
   "cell_type": "code",
   "execution_count": 35,
   "id": "fb8c5fc5-d702-412d-8a0a-8dc582165955",
   "metadata": {},
   "outputs": [
    {
     "name": "stdout",
     "output_type": "stream",
     "text": [
      "Best hyperparameters:\n",
      "{'max_depth': 10, 'min_samples_split': 4}\n",
      "\n",
      "Training set:\n",
      "MSE: 0.03353254451298785\n",
      "R-squared: 0.9503369207545017\n",
      "\n",
      "Testing set:\n",
      "MSE: 0.19579984145512283\n",
      "R-squared: 0.7438163841809816\n"
     ]
    }
   ],
   "source": [
    "# Define the hyperparameter grid for Random Forest regression\n",
    "param_grid_rf = {\n",
    "    'max_depth': [10, 20, 30, 40, 50],\n",
    "    'min_samples_split': [2, 4, 6, 8, 10]\n",
    "}\n",
    "\n",
    "# Create a Random Forest regression model\n",
    "rf_model = RandomForestRegressor(random_state=random_state)\n",
    "\n",
    "# Set up the grid search with 5-fold cross-validation\n",
    "grid_search_rf = GridSearchCV(estimator=rf_model, param_grid=param_grid_rf, cv=5, scoring='neg_mean_squared_error', n_jobs=-1)\n",
    "\n",
    "# Fit the GridSearchCV model to the training data\n",
    "grid_search_rf.fit(X_train, y_train)\n",
    "\n",
    "# Get the best hyperparameters\n",
    "best_params_rf = grid_search_rf.best_params_\n",
    "print(\"Best hyperparameters:\")\n",
    "print(best_params_rf)\n",
    "\n",
    "# Train the best Random Forest regression model with the best hyperparameters\n",
    "best_rf = grid_search_rf.best_estimator_\n",
    "best_rf.fit(X_train, y_train)\n",
    "\n",
    "# Make predictions on the training and test datasets\n",
    "y_train_pred_rf = best_rf.predict(X_train)\n",
    "y_test_pred_rf = best_rf.predict(X_test)\n",
    "\n",
    "# Calculate and print the MSE and R-squared values for both datasets\n",
    "mse_train_rf = mean_squared_error(y_train, y_train_pred_rf)\n",
    "r2_train_rf = r2_score(y_train, y_train_pred_rf)\n",
    "mse_test_rf = mean_squared_error(y_test, y_test_pred_rf)\n",
    "r2_test_rf = r2_score(y_test, y_test_pred_rf)\n",
    "\n",
    "print(\"\\nTraining set:\")\n",
    "print(\"MSE:\", mse_train_rf)\n",
    "print(\"R-squared:\", r2_train_rf)\n",
    "\n",
    "print(\"\\nTesting set:\")\n",
    "print(\"MSE:\", mse_test_rf)\n",
    "print(\"R-squared:\", r2_test_rf)"
   ]
  },
  {
   "cell_type": "markdown",
   "id": "e85a84a3-ad06-4b74-8180-0606b7b82753",
   "metadata": {},
   "source": [
    "### Extreme Gradient Boosting Regression"
   ]
  },
  {
   "cell_type": "code",
   "execution_count": 36,
   "id": "27792ae5-4fc6-4f9a-9cab-56017dca849d",
   "metadata": {},
   "outputs": [
    {
     "name": "stdout",
     "output_type": "stream",
     "text": [
      "Best hyperparameters:\n",
      "{'max_depth': 30, 'n_estimators': 150}\n",
      "\n",
      "Training set:\n",
      "MSE: 3.2071631541323344e-07\n",
      "R-squared: 0.9999995250059303\n",
      "\n",
      "Testing set:\n",
      "MSE: 0.23364864417978143\n",
      "R-squared: 0.6942951840392229\n"
     ]
    }
   ],
   "source": [
    "# Define the hyperparameter grid for XGBoost\n",
    "param_grid_xgb = {           \n",
    "    'max_depth':[10, 20, 30, 40, 50], \n",
    "    'n_estimators':[50, 100, 150, 200, 250]\n",
    "}\n",
    "\n",
    "# Create a XGBoost regression model\n",
    "xgb_model = xgb.XGBRegressor(objective='reg:squarederror', random_state=random_state)\n",
    "\n",
    "# Set up the grid search with 5-fold cross-validation\n",
    "grid_search_xgb = GridSearchCV(xgb_model, param_grid_xgb, cv=5, scoring='neg_mean_squared_error', n_jobs=-1)\n",
    "\n",
    "# Fit the GridSearchCV model to the training data\n",
    "grid_search_xgb.fit(X_train, y_train)\n",
    "\n",
    "# Get the best hyperparameters\n",
    "best_params_xgb = grid_search_xgb.best_params_\n",
    "print(\"Best hyperparameters:\")\n",
    "print(best_params_xgb)\n",
    "\n",
    "# Train the best XGBoost regression model with the best hyperparameters\n",
    "best_xgb = grid_search_xgb.best_estimator_\n",
    "best_xgb.fit(X_train, y_train)\n",
    "\n",
    "# Make predictions on the training and test datasets\n",
    "y_train_pred_xgb = best_xgb.predict(X_train)\n",
    "y_test_pred_xgb = best_xgb.predict(X_test)\n",
    "\n",
    "# Calculate and print the MSE and R-squared values for both datasets\n",
    "mse_train_xgb = mean_squared_error(y_train, y_train_pred_xgb)\n",
    "r2_train_xgb = r2_score(y_train, y_train_pred_xgb)\n",
    "mse_test_xgb = mean_squared_error(y_test, y_test_pred_xgb)\n",
    "r2_test_xgb = r2_score(y_test, y_test_pred_xgb)\n",
    "\n",
    "print(\"\\nTraining set:\")\n",
    "print(\"MSE:\", mse_train_xgb)\n",
    "print(\"R-squared:\", r2_train_xgb)\n",
    "\n",
    "print(\"\\nTesting set:\")\n",
    "print(\"MSE:\", mse_test_xgb)\n",
    "print(\"R-squared:\", r2_test_xgb)"
   ]
  },
  {
   "cell_type": "markdown",
   "id": "f556cb95-8162-4a02-b0ec-b8653874ddaf",
   "metadata": {},
   "source": [
    "### Model comparison and selection"
   ]
  },
  {
   "cell_type": "code",
   "execution_count": 37,
   "id": "d05f6093-b8c5-49aa-b234-b1b8d66f5fce",
   "metadata": {},
   "outputs": [
    {
     "data": {
      "text/html": [
       "<div>\n",
       "<style scoped>\n",
       "    .dataframe tbody tr th:only-of-type {\n",
       "        vertical-align: middle;\n",
       "    }\n",
       "\n",
       "    .dataframe tbody tr th {\n",
       "        vertical-align: top;\n",
       "    }\n",
       "\n",
       "    .dataframe thead th {\n",
       "        text-align: right;\n",
       "    }\n",
       "</style>\n",
       "<table border=\"1\" class=\"dataframe\">\n",
       "  <thead>\n",
       "    <tr style=\"text-align: right;\">\n",
       "      <th></th>\n",
       "      <th>Model</th>\n",
       "      <th>MSE Train</th>\n",
       "      <th>MSE Test</th>\n",
       "      <th>R-squared Train</th>\n",
       "      <th>R-squared Test</th>\n",
       "      <th>MSE Difference</th>\n",
       "      <th>R-squared Difference</th>\n",
       "    </tr>\n",
       "  </thead>\n",
       "  <tbody>\n",
       "    <tr>\n",
       "      <th>0</th>\n",
       "      <td>Linear Regression</td>\n",
       "      <td>0.1610</td>\n",
       "      <td>0.1908</td>\n",
       "      <td>0.7616</td>\n",
       "      <td>0.7504</td>\n",
       "      <td>0.0298</td>\n",
       "      <td>0.0113</td>\n",
       "    </tr>\n",
       "    <tr>\n",
       "      <th>1</th>\n",
       "      <td>Lasso Regression</td>\n",
       "      <td>0.1610</td>\n",
       "      <td>0.1908</td>\n",
       "      <td>0.7616</td>\n",
       "      <td>0.7503</td>\n",
       "      <td>0.0299</td>\n",
       "      <td>0.0113</td>\n",
       "    </tr>\n",
       "    <tr>\n",
       "      <th>2</th>\n",
       "      <td>Random Forest</td>\n",
       "      <td>0.0335</td>\n",
       "      <td>0.1958</td>\n",
       "      <td>0.9503</td>\n",
       "      <td>0.7438</td>\n",
       "      <td>0.1623</td>\n",
       "      <td>0.2065</td>\n",
       "    </tr>\n",
       "    <tr>\n",
       "      <th>3</th>\n",
       "      <td>XGBoost</td>\n",
       "      <td>0.0000</td>\n",
       "      <td>0.2336</td>\n",
       "      <td>1.0000</td>\n",
       "      <td>0.6943</td>\n",
       "      <td>0.2336</td>\n",
       "      <td>0.3057</td>\n",
       "    </tr>\n",
       "  </tbody>\n",
       "</table>\n",
       "</div>"
      ],
      "text/plain": [
       "               Model                                MSE Train  \\\n",
       "0  Linear Regression                                   0.1610   \n",
       "1   Lasso Regression                                   0.1610   \n",
       "2      Random Forest                                   0.0335   \n",
       "3            XGBoost                                   0.0000   \n",
       "\n",
       "                                  MSE Test  \\\n",
       "0                                   0.1908   \n",
       "1                                   0.1908   \n",
       "2                                   0.1958   \n",
       "3                                   0.2336   \n",
       "\n",
       "                           R-squared Train  \\\n",
       "0                                   0.7616   \n",
       "1                                   0.7616   \n",
       "2                                   0.9503   \n",
       "3                                   1.0000   \n",
       "\n",
       "                            R-squared Test  \\\n",
       "0                                   0.7504   \n",
       "1                                   0.7503   \n",
       "2                                   0.7438   \n",
       "3                                   0.6943   \n",
       "\n",
       "                            MSE Difference  \\\n",
       "0                                   0.0298   \n",
       "1                                   0.0299   \n",
       "2                                   0.1623   \n",
       "3                                   0.2336   \n",
       "\n",
       "                      R-squared Difference  \n",
       "0                                   0.0113  \n",
       "1                                   0.0113  \n",
       "2                                   0.2065  \n",
       "3                                   0.3057  "
      ]
     },
     "execution_count": 37,
     "metadata": {},
     "output_type": "execute_result"
    }
   ],
   "source": [
    "# Create a DataFrame to store the results\n",
    "results = pd.DataFrame({\n",
    "    'Model': ['Linear Regression', 'Lasso Regression', 'Random Forest', 'XGBoost'],\n",
    "    'MSE Train': [mse_train_lr, mse_train_lasso, mse_train_rf, mse_train_xgb],\n",
    "    'MSE Test': [mse_test_lr, mse_test_lasso, mse_test_rf, mse_test_xgb],\n",
    "    'R-squared Train': [r2_train_lr, r2_train_lasso, r2_train_rf, r2_train_xgb],\n",
    "    'R-squared Test': [r2_test_lr, r2_test_lasso, r2_test_rf, r2_test_xgb]\n",
    "})\n",
    "\n",
    "# Calculate the differences between the training and testing metrics\n",
    "results['MSE Difference'] = abs(results['MSE Train'] - results['MSE Test'])\n",
    "results['R-squared Difference'] = abs(results['R-squared Train'] - results['R-squared Test'])\n",
    "\n",
    "# Display the results\n",
    "results"
   ]
  },
  {
   "cell_type": "markdown",
   "id": "3456c998-a592-4b5e-ba4d-3c7c4cdde318",
   "metadata": {},
   "source": [
    "**Linear Regression**:\n",
    "- MSE Train: 0.1610, MSE Test: 0.1908\n",
    "- R-squared Train: 0.7616, R-squared Test: 0.7504\n",
    "- MSE Difference: 0.0298, R-squared Difference: 0.0113\n",
    "\n",
    "The Linear Regression model performs similarly on both training and testing datasets, with a slightly higher MSE and slightly lower R-squared value on the test dataset, indicating a moderate fit.\n",
    "\n",
    "**Lasso Regression**:\n",
    "- MSE Train: 0.1610, MSE Test: 0.1908\n",
    "- R-squared Train: 0.7616, R-squared Test: 0.7503\n",
    "- MSE Difference: 0.0299, R-squared Difference: 0.0113\n",
    "\n",
    "The Lasso Regression model performs similarly to the Linear Regression model, with almost the same values for both training and testing datasets. This suggests that Lasso regularization did not significantly improve the model.\n",
    "\n",
    "**Random Forest**:\n",
    "- MSE Train: 0.0335, MSE Test: 0.1958\n",
    "- R-squared Train: 0.9503, R-squared Test: 0.7438\n",
    "- MSE Difference: 0.1623, R-squared Difference: 0.2065\n",
    "\n",
    "The Random Forest model has a low MSE and high R-squared value for the training dataset, but the performance on the testing dataset is not as good. This indicates the model is likely overfitting the training data.\n",
    "\n",
    "**XGBoost**:\n",
    "- MSE Train: 0.0000, MSE Test: 0.2336\n",
    "- R-squared Train: 1.0000, R-squared Test: 0.6943\n",
    "- MSE Difference: 0.2336, R-squared Difference: 0.3057\n",
    "\n",
    "The XGBoost model perfectly fits the training data with an MSE of 0 and an R-squared value of 1, but the performance on the testing dataset is significantly worse. This is a strong indication of overfitting.\n",
    "\n",
    "Linear and Lasso regression models have lower MSEs, and higher R-squared values, and are more interpretable than Random Forest and XGBoost models. Both Random Forest and XGBoost models suffer from overfitting and require more computational resources and time. Considering performance, interpretability, and computational complexity, either Linear or Lasso regression seems to be the best choice for this project.\n",
    "\n",
    "However, since feature selection is important in this project, Lasso regression is the preferred option, as it can help identify the most relevant features by setting some of the coefficients to zero."
   ]
  },
  {
   "cell_type": "code",
   "execution_count": 38,
   "id": "44c133fd-c74e-464b-903c-e17a3bc9086a",
   "metadata": {},
   "outputs": [
    {
     "data": {
      "text/html": [
       "<div>\n",
       "<style scoped>\n",
       "    .dataframe tbody tr th:only-of-type {\n",
       "        vertical-align: middle;\n",
       "    }\n",
       "\n",
       "    .dataframe tbody tr th {\n",
       "        vertical-align: top;\n",
       "    }\n",
       "\n",
       "    .dataframe thead th {\n",
       "        text-align: right;\n",
       "    }\n",
       "</style>\n",
       "<table border=\"1\" class=\"dataframe\">\n",
       "  <thead>\n",
       "    <tr style=\"text-align: right;\">\n",
       "      <th></th>\n",
       "      <th>Feature</th>\n",
       "      <th>Coefficient</th>\n",
       "      <th>Abs_Coefficient</th>\n",
       "    </tr>\n",
       "  </thead>\n",
       "  <tbody>\n",
       "    <tr>\n",
       "      <th>5</th>\n",
       "      <td>No_Car_or_Van_Percentage</td>\n",
       "      <td>2.1061</td>\n",
       "      <td>2.1061</td>\n",
       "    </tr>\n",
       "    <tr>\n",
       "      <th>1</th>\n",
       "      <td>Median_Annual_Household_Income</td>\n",
       "      <td>-0.6369</td>\n",
       "      <td>0.6369</td>\n",
       "    </tr>\n",
       "    <tr>\n",
       "      <th>0</th>\n",
       "      <td>Mean_Annual_Household_Income</td>\n",
       "      <td>0.5486</td>\n",
       "      <td>0.5486</td>\n",
       "    </tr>\n",
       "    <tr>\n",
       "      <th>3</th>\n",
       "      <td>Social_Rented_Percentage</td>\n",
       "      <td>-0.4962</td>\n",
       "      <td>0.4962</td>\n",
       "    </tr>\n",
       "    <tr>\n",
       "      <th>6</th>\n",
       "      <td>Cars_per_Household</td>\n",
       "      <td>0.4404</td>\n",
       "      <td>0.4404</td>\n",
       "    </tr>\n",
       "    <tr>\n",
       "      <th>8</th>\n",
       "      <td>Unemployment_Rate</td>\n",
       "      <td>-0.2580</td>\n",
       "      <td>0.2580</td>\n",
       "    </tr>\n",
       "    <tr>\n",
       "      <th>4</th>\n",
       "      <td>Private_Rented_Percentage</td>\n",
       "      <td>-0.2070</td>\n",
       "      <td>0.2070</td>\n",
       "    </tr>\n",
       "    <tr>\n",
       "      <th>2</th>\n",
       "      <td>Highest_Level4_Qualifications</td>\n",
       "      <td>0.1227</td>\n",
       "      <td>0.1227</td>\n",
       "    </tr>\n",
       "    <tr>\n",
       "      <th>7</th>\n",
       "      <td>Median_House_Price_2011</td>\n",
       "      <td>0.0383</td>\n",
       "      <td>0.0383</td>\n",
       "    </tr>\n",
       "  </tbody>\n",
       "</table>\n",
       "</div>"
      ],
      "text/plain": [
       "                          Feature                              Coefficient  \\\n",
       "5        No_Car_or_Van_Percentage                                   2.1061   \n",
       "1  Median_Annual_Household_Income                                  -0.6369   \n",
       "0    Mean_Annual_Household_Income                                   0.5486   \n",
       "3        Social_Rented_Percentage                                  -0.4962   \n",
       "6              Cars_per_Household                                   0.4404   \n",
       "8               Unemployment_Rate                                  -0.2580   \n",
       "4       Private_Rented_Percentage                                  -0.2070   \n",
       "2   Highest_Level4_Qualifications                                   0.1227   \n",
       "7         Median_House_Price_2011                                   0.0383   \n",
       "\n",
       "                           Abs_Coefficient  \n",
       "5                                   2.1061  \n",
       "1                                   0.6369  \n",
       "0                                   0.5486  \n",
       "3                                   0.4962  \n",
       "6                                   0.4404  \n",
       "8                                   0.2580  \n",
       "4                                   0.2070  \n",
       "2                                   0.1227  \n",
       "7                                   0.0383  "
      ]
     },
     "execution_count": 38,
     "metadata": {},
     "output_type": "execute_result"
    }
   ],
   "source": [
    "# Retrieve the coefficients from the best Lasso regression model\n",
    "lasso_coefficients = best_lasso.coef_\n",
    "\n",
    "# Get the feature names from the scaled dataframe, excluding the first column (index) and the last column (target variable)\n",
    "feature_names = msoa_with_ptal_scaled.columns[1:-1]\n",
    "\n",
    "# Create a new DataFrame with the feature names and their corresponding coefficients\n",
    "coef_df = pd.DataFrame({'Feature': feature_names, 'Coefficient': lasso_coefficients})\n",
    "\n",
    "# Calculate the absolute value of the coefficients and add a new column 'Abs_Coefficient' to the DataFrame\n",
    "coef_df['Abs_Coefficient'] = coef_df['Coefficient'].abs()\n",
    "\n",
    "# Sort the DataFrame by the absolute value of the coefficients in descending order\n",
    "coef_df = coef_df.sort_values(by='Abs_Coefficient', ascending=False)\n",
    "\n",
    "# Display the sorted DataFrame\n",
    "coef_df"
   ]
  },
  {
   "cell_type": "code",
   "execution_count": 39,
   "id": "6aac36e4-cc2d-43df-866f-c47cfaeefc43",
   "metadata": {},
   "outputs": [
    {
     "data": {
      "image/png": "[encoded data removed]",
      "text/plain": [
       "<Figure size 432x288 with 1 Axes>"
      ]
     },
     "metadata": {
      "needs_background": "light"
     },
     "output_type": "display_data"
    }
   ],
   "source": [
    "# Create a bar plot using Seaborn\n",
    "sns.barplot(x='Abs_Coefficient', y='Feature', data=coef_df)\n",
    "\n",
    "# Set the title for the plot\n",
    "plt.title('Feature Importance')\n",
    "\n",
    "# Set the label for the x-axis\n",
    "plt.xlabel('Importance')\n",
    "\n",
    "# Set the label for the y-axis\n",
    "plt.ylabel('Socioeconomic Factor')\n",
    "\n",
    "# Display the plot\n",
    "plt.show()"
   ]
  },
  {
   "cell_type": "markdown",
   "id": "7726c3c3-ec35-4793-a853-1f6c7011f613",
   "metadata": {},
   "source": [
    "## Results and discussion\n",
    "\n",
    "This study aimed to predict public transport accessibility levels (PTAL) using socio-economic and demographic variables. Four regression models were evaluated: Linear Regression, Lasso Regression, Random Forest Regression, and Extreme Gradient Boosting Regression, with performance assessed using mean squared error (MSE) and R-squared (R²) metrics. Lasso Regression demonstrated the best balance between performance and interpretability, achieving R-squared values of 0.7616 (training) and 0.7503 (test), and aiding in feature selection.\n",
    "\n",
    "The most important features contributing to PTAL scores, ordered by their coefficients, are:\n",
    "- No_Car_or_Van_Percentage (2.1061)\n",
    "- Median_Annual_Household_Income (-0.6369)\n",
    "- Mean_Annual_Household_Income (0.5486)\n",
    "- Social_Rented_Percentage (-0.4962)\n",
    "- Cars_per_Household (0.4404)\n",
    "- Unemployment_Rate (-0.2580)\n",
    "- Private_Rented_Percentage (-0.2070)\n",
    "- Highest_Level4_Qualifications (0.1227)\n",
    "- Median_House_Price_2011 (0.0383)\n",
    "\n",
    "The study found that the key factors in predicting PTAL scores are the percentage of households without a car or van, median and mean annual household incomes, social rented housing percentage, and cars per household. Other significant factors include the unemployment rate, private rented housing percentage, highest Level 4 qualifications, and 2011 median house prices. Higher PTAL scores are associated with more car-free households, lower incomes, lower social-rented housing percentages, and fewer cars per household. Additionally, factors like the unemployment rate, private rented housing percentage, and educational attainment play a role in public transport accessibility. In conclusion, Lasso Regression effectively predicts PTAL scores, offering insights for policymakers and urban planners to improve public transportation infrastructure and services."
   ]
  },
  {
   "cell_type": "markdown",
   "id": "f2008572-b983-4802-9440-582257f0758c",
   "metadata": {},
   "source": [
    "### Limitation\n",
    "\n",
    "Our study offers important insights into socio-economic variables and public transport accessibility levels but has some limitations:\n",
    "\n",
    "- Data limitations: The analysis depends on the data's accuracy and representativeness, which may not capture all relevant factors or variations within the study area. Data collection and processing errors may also affect the results.\n",
    "- Model limitations: While Lasso Regression was the best model in this context, other models might perform better with different datasets or contexts. Additionally, the linear relationship assumption may not always hold.\n",
    "- Generalizability: Our findings are specific to the dataset used, limiting their generalizability to other regions or periods. Relationships between socio-economic factors and public transport accessibility may vary across locations and over time.\n",
    "- Causal inference: Our study identifies associative relationships, not causality. Further research using experimental or quasi-experimental designs is needed to establish causal relationships.\n",
    "- Feature selection: Lasso Regression provides an interpretable model with feature selection but may not capture all relevant interactions or non-linear relationships. Future studies could consider alternative feature selection methods like recursive feature elimination or principal component analysis.\n",
    "\n",
    "Despite these limitations, our study serves as a valuable starting point for understanding factors influencing public transport accessibility levels. Future research can expand on our findings by incorporating additional data sources, exploring alternative modelling techniques, or conducting region- or time-period-specific analyses."
   ]
  },
  {
   "cell_type": "markdown",
   "id": "85bf3e29-136e-456e-b7b2-5dff7a38874c",
   "metadata": {},
   "source": [
    "## Conclusion\n",
    "\n",
    "Our study identified Lasso Regression as the optimal model for analyzing relationships between socio-economic factors and public transport accessibility levels (PTAL). Key factors influencing PTAL scores include the percentage of households without a car or van, median and mean annual household incomes, social rented percentage, and cars per household. These findings can assist urban planners and policymakers in developing targeted strategies to enhance public transport accessibility and address socio-economic disparities.\n",
    "\n",
    "It is crucial to recognize the study's limitations, such as data quality, model assumptions, generalizability, and causal inference. Further research should explore alternative modelling techniques, additional data sources, and in-depth analyses of specific regions or periods to better comprehend the complex relationships between socio-economic factors and public transport accessibility levels.\n",
    "\n",
    "In conclusion, our study offers valuable insights into the factors affecting public transport accessibility and emphasizes the importance of considering socio-economic variables in urban planning and policy development. By understanding these relationships, we can contribute to creating more sustainable, equitable, and accessible cities for all residents.\n",
    "\n",
    "Words count: 1935 words"
   ]
  },
  {
   "cell_type": "code",
   "execution_count": 40,
   "id": "3ee6fb7c-6806-44b5-b1a3-860b1da2c599",
   "metadata": {},
   "outputs": [
    {
     "name": "stdout",
     "output_type": "stream",
     "text": [
      "Total running time is 31.180646181106567 seconds\n"
     ]
    }
   ],
   "source": [
    "# Set end time of running\n",
    "end_time = time.time()\n",
    "running_time = end_time - start_time\n",
    "print(f\"Total running time is {running_time} seconds\")"
   ]
  },
  {
   "cell_type": "markdown",
   "id": "b5ca2c7b-dbac-4673-a9a7-5e68ffe5d5f4",
   "metadata": {},
   "source": [
    "## Reference \n",
    "\n",
    "Breiman, L. (2001). *Random forests*. Machine learning, 45(1), 5-32.\n",
    "\n",
    "Chen, T., & Guestrin, C. (2016). *Xgboost: A scalable tree boosting system*. In Proceedings of the 22nd ACM SIGKDD international conference on knowledge discovery and data mining (pp. 785-794).\n",
    "\n",
    "Geurs, K. T., & van Wee, B. (2004). *Accessibility evaluation of land-use and transport strategies: review and research directions*. Journal of Transport Geography, 12(2), 127-140.\n",
    "\n",
    "James, G., Witten, D., Hastie, T., & Tibshirani, R. (2013). *An Introduction to Statistical Learning* (Vol. 112, pp. 18-24). New York: Springer.\n",
    "\n",
    "Lucas, K., Bates, J., Moore, J., & Carrasco, J. A. (2016). *Modelling the relationship between travel behaviours and social disadvantage*. Transportation Research Part A: Policy and Practice, 85, 184-198.\n",
    "\n",
    "Litman, T. (2017). *Evaluating public transit benefits and costs: Best practices guidebook*. Victoria Transport Policy Institute.\n",
    "\n",
    "Paulley, N., Balcombe, R., Mackett, R., Titheridge, H., Preston, J., Wardman, M., Shires, J., & White, P. (2006). *A PTAL approach to measuring changes in bus service accessibility*. Transport Policy, 13(3), 180-192.\n",
    "\n",
    "Zou, H., & Hastie, T. (2005). *Regularization and variable selection via the elastic net*. Journal of the Royal Statistical Society: Series B (Statistical Methodology), 67(2), 301-320."
   ]
  }
 ],
 "metadata": {
  "kernelspec": {
   "display_name": "Python 3 (ipykernel)",
   "language": "python",
   "name": "python3"
  },
  "language_info": {
   "codemirror_mode": {
    "name": "ipython",
    "version": 3
   },
   "file_extension": ".py",
   "mimetype": "text/x-python",
   "name": "python",
   "nbconvert_exporter": "python",
   "pygments_lexer": "ipython3",
   "version": "3.10.5"
  }
 },
 "nbformat": 4,
 "nbformat_minor": 5
}
